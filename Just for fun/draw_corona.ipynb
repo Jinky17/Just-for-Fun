{
 "cells": [
  {
   "cell_type": "code",
   "execution_count": null,
   "source": [
    "from turtle import*"
   ],
   "outputs": [
    {
     "output_type": "error",
     "ename": "Error",
     "evalue": "Session cannot generate requests",
     "traceback": [
      "Error: Session cannot generate requests",
      "at w.executeCodeCell (c:\\Users\\Kyrie\\.vscode\\extensions\\ms-toolsai.jupyter-2021.8.1013163132\\out\\client\\extension.js:90:320068)",
      "at w.execute (c:\\Users\\Kyrie\\.vscode\\extensions\\ms-toolsai.jupyter-2021.8.1013163132\\out\\client\\extension.js:90:319389)",
      "at w.start (c:\\Users\\Kyrie\\.vscode\\extensions\\ms-toolsai.jupyter-2021.8.1013163132\\out\\client\\extension.js:90:315205)",
      "at runMicrotasks (<anonymous>)",
      "at processTicksAndRejections (internal/process/task_queues.js:93:5)",
      "at async t.CellExecutionQueue.executeQueuedCells (c:\\Users\\Kyrie\\.vscode\\extensions\\ms-toolsai.jupyter-2021.8.1013163132\\out\\client\\extension.js:90:329732)",
      "at async t.CellExecutionQueue.start (c:\\Users\\Kyrie\\.vscode\\extensions\\ms-toolsai.jupyter-2021.8.1013163132\\out\\client\\extension.js:90:329272)"
     ]
    }
   ],
   "metadata": {}
  },
  {
   "cell_type": "code",
   "execution_count": null,
   "source": [
    "color('green')\r\n",
    "bgcolor('black')\r\n",
    "speed(11)"
   ],
   "outputs": [],
   "metadata": {}
  },
  {
   "cell_type": "code",
   "execution_count": null,
   "source": [
    "hideturtle()"
   ],
   "outputs": [],
   "metadata": {}
  },
  {
   "cell_type": "code",
   "execution_count": null,
   "source": [
    "b = 0 \r\n",
    "while b < 250:\r\n",
    "    right(b)\r\n",
    "    forward(b*3)\r\n",
    "    b = b + 1"
   ],
   "outputs": [],
   "metadata": {}
  },
  {
   "cell_type": "code",
   "execution_count": null,
   "source": [
    "quit()"
   ],
   "outputs": [],
   "metadata": {}
  }
 ],
 "metadata": {
  "orig_nbformat": 4,
  "language_info": {
   "name": "python"
  }
 },
 "nbformat": 4,
 "nbformat_minor": 2
}